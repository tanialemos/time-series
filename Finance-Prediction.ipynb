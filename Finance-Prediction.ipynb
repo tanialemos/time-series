{
 "cells": [
  {
   "cell_type": "markdown",
   "metadata": {},
   "source": [
    "# Financial Prediction"
   ]
  },
  {
   "cell_type": "markdown",
   "metadata": {},
   "source": [
    "## Do The imports"
   ]
  },
  {
   "cell_type": "code",
   "execution_count": null,
   "metadata": {},
   "outputs": [],
   "source": [
    "import pandas as pd\n",
    "import numpy as np\n",
    "import matplotlib.pyplot as plt\n",
    "import datetime\n",
    "import yfinance as yf\n",
    "import riskfolio as rpf\n",
    "from prophet import Prophet\n",
    "import gradio"
   ]
  },
  {
   "cell_type": "markdown",
   "metadata": {},
   "source": [
    "## Gradio Input"
   ]
  },
  {
   "cell_type": "code",
   "execution_count": null,
   "metadata": {},
   "outputs": [],
   "source": [
    "start = \"2012-01-01\" #input gradio\n",
    "end = \"2019-12-31\"  #input gradio\n",
    "tickers_list = [\"TSLA\",\"GOOGL\",\"AAPL\"]  #input gradio\n",
    "analyze_start_date = \"2018-01-01\" #input gradio\n",
    "dict_resample = {\"yearly\" : \"Y\", \"monthly\" : \"M\", \"weekly\" : \"W\",\"daily\" : \"D\"}\n",
    "resample_period = \"monthly\" #input gradio\n",
    "periods = 24    #input gradio\n",
    "ticker_market_price_chart = \"AAPL\"  #input gradio"
   ]
  },
  {
   "cell_type": "markdown",
   "metadata": {},
   "source": [
    "## Download Data"
   ]
  },
  {
   "cell_type": "code",
   "execution_count": null,
   "metadata": {},
   "outputs": [],
   "source": [
    "data = yf.download(tickers_list, start = start, end = end)\n",
    "data = data.loc[:,(\"Adj Close\")]\n",
    "data = data.reset_index()"
   ]
  },
  {
   "cell_type": "markdown",
   "metadata": {},
   "source": [
    "## Prepare the Data"
   ]
  },
  {
   "cell_type": "code",
   "execution_count": null,
   "metadata": {},
   "outputs": [],
   "source": [
    "analyze_start_data = data[data.index == data[data[\"Date\"] <= analyze_start_date].index[-1]]\n",
    "data_resample = data.resample(dict_resample[resample_period], on = \"Date\").last()\n",
    "data_resample = data_resample.dropna()\n",
    "data_resample = data_resample.reset_index()\n",
    "\n",
    "data_tickers_optimisation_past_save = data_resample[data_resample[\"Date\"]<analyze_start_date]\n",
    "data_tickers_optimisation_overall_save = data_resample.copy()\n",
    "\n",
    "data_tickers_prediction_optimisation_overall_save = pd.DataFrame()"
   ]
  },
  {
   "cell_type": "markdown",
   "metadata": {},
   "source": [
    "## Make Predictions"
   ]
  },
  {
   "cell_type": "code",
   "execution_count": null,
   "metadata": {},
   "outputs": [],
   "source": [
    "for ticker in tickers_list : \n",
    "\n",
    "    data_ticker_model = data_resample[data_resample[\"Date\"] < analyze_start_date][[\"Date\",ticker]].rename(columns = {\"Date\" : \"ds\", ticker : \"y\"})\n",
    "\n",
    "    model = Prophet()\n",
    "    model.fit(data_ticker_model)\n",
    "    futur = model.make_future_dataframe(periods = periods , freq = dict_resample[resample_period])\n",
    "    data_ticker_prediction = model.predict(futur)\n",
    "    \n",
    "    #model.plot(data_ticker_prediction,uncertainty=True)\n",
    "    #model.plot_components(data_ticker_prediction)\n",
    "\n",
    "    data_ticker_prediction = data_ticker_prediction[data_ticker_prediction[\"ds\"] >= analyze_start_date][[\"ds\",\"yhat\"]].rename(columns = {\"ds\" : \"Date\", \"yhat\": f\"{ticker} prediction\"})\n",
    "\n",
    "    data_ticker_prediction = pd.concat([data_tickers_optimisation_past_save.rename(columns = { ticker : f\"{ticker} prediction\"})[[\"Date\",f\"{ticker} prediction\"]],\n",
    "                                        data_ticker_prediction], ignore_index = True)\n",
    "\n",
    "    if \"Date\" in data_tickers_prediction_optimisation_overall_save.columns : \n",
    "        data_tickers_prediction_optimisation_overall_save[f\"{ticker} prediction\"] = data_ticker_prediction[f\"{ticker} prediction\"]\n",
    "    else :\n",
    "        data_tickers_prediction_optimisation_overall_save = data_ticker_prediction"
   ]
  },
  {
   "cell_type": "markdown",
   "metadata": {},
   "source": [
    "## Draw Ticker Market Price Chart"
   ]
  },
  {
   "cell_type": "code",
   "execution_count": null,
   "metadata": {},
   "outputs": [],
   "source": [
    "plt.figure(figsize = (10,6))\n",
    "plt.title(f\"Market Price : {ticker_market_price_chart} and {ticker_market_price_chart} prediction evolution\")\n",
    "plt.axvline(x = datetime.datetime.strptime(analyze_start_date,\"%Y-%M-%d\"), color = \"black\", linestyle = \"dashed\")\n",
    "plt.plot(data_tickers_prediction_optimisation_overall_save[\"Date\"],data_tickers_prediction_optimisation_overall_save[f\"{ticker_market_price_chart} prediction\"],\n",
    "        color=\"red\",label=f\"{ticker_market_price_chart} prediction\")\n",
    "plt.plot(data_resample[\"Date\"],data_resample[ticker_market_price_chart],color = \"blue\", label = ticker_market_price_chart)\n",
    "plt.yscale(value = \"log\")\n",
    "plt.xlabel(\"Time\")\n",
    "plt.ylabel(\"Price (log[10] scale)\")\n",
    "plt.legend(loc = \"upper left\")\n",
    "plt.show()"
   ]
  },
  {
   "cell_type": "markdown",
   "metadata": {},
   "source": [
    "## Portfolio Tickers Past Optimisation "
   ]
  },
  {
   "cell_type": "code",
   "execution_count": null,
   "metadata": {},
   "outputs": [],
   "source": [
    "data_tickers_optimisation_past = data_tickers_optimisation_past_save.copy()\n",
    "data_tickers_optimisation_past[data_tickers_optimisation_past.columns.drop(\"Date\")] = data_tickers_optimisation_past[data_tickers_optimisation_past.columns.drop(\"Date\")].pct_change()\n",
    "data_tickers_optimisation_past = data_tickers_optimisation_past.dropna()\n",
    "data_tickers_optimisation_past = data_tickers_optimisation_past.set_index(\"Date\")\n",
    "\n",
    "portfolio = rpf.Portfolio(returns = data_tickers_optimisation_past)\n",
    "method_mu=\"hist\" \n",
    "method_cov=\"hist\"\n",
    "portfolio.assets_stats(method_mu=method_mu, method_cov=method_cov, d=0.95)\n",
    "model=\"Classic\" # + \"BL\" --> list and loop over\n",
    "rm = \"MV\" # + \"SLPM\" --> list and loop over\n",
    "obj = \"Sharpe\"\n",
    "hist = True\n",
    "rf = 0\n",
    "l = 0\n",
    "tickers_weight = portfolio.optimization(model=model, rm=rm, obj=obj, rf=rf, l=l, hist=hist)\n",
    "ax1 = rpf.plot_pie(w=tickers_weight, title=\"Sharpe Mean Variance\", others=0.01, nrow=20, cmap = \"tab20\", height=6, width=10, ax=None)"
   ]
  },
  {
   "cell_type": "code",
   "execution_count": null,
   "metadata": {},
   "outputs": [],
   "source": [
    "points = 50\n",
    "frontier = portfolio.efficient_frontier(model=model, rm=rm, points=points, rf=rf, hist=hist)\n",
    "label = 'Max Risk Adjusted Return Portfolio'\n",
    "mu = portfolio.mu\n",
    "cov = portfolio.cov\n",
    "returns = portfolio.returns\n",
    "ax2 = rpf.plot_frontier(w_frontier=frontier, mu=mu, cov=cov, returns=returns, rm=rm, rf=rf, alpha=0.05, cmap='viridis', w=tickers_weight, \n",
    "                        label=label, marker='*', s=16, c='r', height=6, width=10, ax=None)"
   ]
  },
  {
   "cell_type": "code",
   "execution_count": null,
   "metadata": {},
   "outputs": [],
   "source": [
    "ax3 = rpf.plot_frontier_area(w_frontier=frontier, cmap=\"tab20\", height=6, width=10, ax=None)"
   ]
  },
  {
   "cell_type": "markdown",
   "metadata": {},
   "source": [
    "## Portfolio Tickers Prediction Optimisation"
   ]
  },
  {
   "cell_type": "code",
   "execution_count": null,
   "metadata": {},
   "outputs": [],
   "source": [
    "data_tickers_prediction_optimisation_overall = data_tickers_prediction_optimisation_overall_save.copy()\n",
    "data_tickers_prediction_optimisation_overall[data_tickers_prediction_optimisation_overall.columns.drop(\"Date\")] = data_tickers_prediction_optimisation_overall[data_tickers_prediction_optimisation_overall.columns.drop(\"Date\")].pct_change()\n",
    "data_tickers_prediction_optimisation_overall = data_tickers_prediction_optimisation_overall.dropna()\n",
    "data_tickers_prediction_optimisation_overall = data_tickers_prediction_optimisation_overall.set_index(\"Date\")\n",
    "\n",
    "portfolio = rpf.Portfolio(returns = data_tickers_prediction_optimisation_overall)\n",
    "method_mu=\"hist\" \n",
    "method_cov=\"hist\"\n",
    "portfolio.assets_stats(method_mu=method_mu, method_cov=method_cov, d=0.95)\n",
    "model=\"Classic\" # + \"BL\" --> list and loop over\n",
    "rm = \"MV\" # + \"SLPM\" --> list and loop over\n",
    "obj = \"Sharpe\"\n",
    "hist = True\n",
    "rf = 0\n",
    "l = 0\n",
    "tickers_weight = portfolio.optimization(model=model, rm=rm, obj=obj, rf=rf, l=l, hist=hist)\n",
    "ax1 = rpf.plot_pie(w=tickers_weight, title=\"Sharpe Mean Variance\", others=0.01, nrow=20, cmap = \"tab20\", height=6, width=10, ax=None)"
   ]
  },
  {
   "cell_type": "code",
   "execution_count": null,
   "metadata": {},
   "outputs": [],
   "source": [
    "points = 50\n",
    "frontier = portfolio.efficient_frontier(model=model, rm=rm, points=points, rf=rf, hist=hist)\n",
    "label = 'Max Risk Adjusted Return Portfolio'\n",
    "mu = portfolio.mu\n",
    "cov = portfolio.cov\n",
    "returns = portfolio.returns\n",
    "ax2 = rpf.plot_frontier(w_frontier=frontier, mu=mu, cov=cov, returns=returns, rm=rm, rf=rf, alpha=0.05, cmap='viridis', w=tickers_weight, \n",
    "                        label=label, marker='*', s=16, c='r', height=6, width=10, ax=None)"
   ]
  },
  {
   "cell_type": "code",
   "execution_count": null,
   "metadata": {},
   "outputs": [],
   "source": [
    "ax3 = rpf.plot_frontier_area(w_frontier=frontier, cmap=\"tab20\", height=6, width=10, ax=None)"
   ]
  },
  {
   "cell_type": "markdown",
   "metadata": {},
   "source": [
    "## Portfolio Tickers Overall Optimisation "
   ]
  },
  {
   "cell_type": "code",
   "execution_count": null,
   "metadata": {},
   "outputs": [],
   "source": [
    "data_tickers_optimisation_overall = data_tickers_optimisation_overall_save.copy()\n",
    "data_tickers_optimisation_overall[data_tickers_optimisation_overall.columns.drop(\"Date\")] = data_tickers_optimisation_overall[data_tickers_optimisation_overall.columns.drop(\"Date\")].pct_change()\n",
    "data_tickers_optimisation_overall = data_tickers_optimisation_overall.dropna()\n",
    "data_tickers_optimisation_overall = data_tickers_optimisation_overall.set_index(\"Date\")\n",
    "\n",
    "portfolio = rpf.Portfolio(returns = data_tickers_optimisation_overall)\n",
    "method_mu=\"hist\" \n",
    "method_cov=\"hist\"\n",
    "portfolio.assets_stats(method_mu=method_mu, method_cov=method_cov, d=0.95)\n",
    "model=\"Classic\" # + \"BL\" --> list and loop over\n",
    "rm = \"MV\" # + \"SLPM\" --> list and loop over\n",
    "obj = \"Sharpe\"\n",
    "hist = True\n",
    "rf = 0\n",
    "l = 0\n",
    "tickers_weight = portfolio.optimization(model=model, rm=rm, obj=obj, rf=rf, l=l, hist=hist)\n",
    "ax1 = rpf.plot_pie(w=tickers_weight, title=\"Sharpe Mean Variance\", others=0.01, nrow=20, cmap = \"tab20\", height=6, width=10, ax=None)"
   ]
  },
  {
   "cell_type": "code",
   "execution_count": null,
   "metadata": {},
   "outputs": [],
   "source": [
    "points = 50\n",
    "frontier = portfolio.efficient_frontier(model=model, rm=rm, points=points, rf=rf, hist=hist)\n",
    "label = 'Max Risk Adjusted Return Portfolio'\n",
    "mu = portfolio.mu\n",
    "cov = portfolio.cov\n",
    "returns = portfolio.returns\n",
    "ax2 = rpf.plot_frontier(w_frontier=frontier, mu=mu, cov=cov, returns=returns, rm=rm, rf=rf, alpha=0.05, cmap='viridis', w=tickers_weight, \n",
    "                        label=label, marker='*', s=16, c='r', height=6, width=10, ax=None)"
   ]
  },
  {
   "cell_type": "code",
   "execution_count": null,
   "metadata": {},
   "outputs": [],
   "source": [
    "ax3 = rpf.plot_frontier_area(w_frontier=frontier, cmap=\"tab20\", height=6, width=10, ax=None)"
   ]
  }
 ],
 "metadata": {
  "kernelspec": {
   "display_name": "Python 3.10.6 64-bit",
   "language": "python",
   "name": "python3"
  },
  "language_info": {
   "codemirror_mode": {
    "name": "ipython",
    "version": 3
   },
   "file_extension": ".py",
   "mimetype": "text/x-python",
   "name": "python",
   "nbconvert_exporter": "python",
   "pygments_lexer": "ipython3",
   "version": "3.10.6"
  },
  "orig_nbformat": 4,
  "vscode": {
   "interpreter": {
    "hash": "916dbcbb3f70747c44a77c7bcd40155683ae19c65e1c03b4aa3499c5328201f1"
   }
  }
 },
 "nbformat": 4,
 "nbformat_minor": 2
}
